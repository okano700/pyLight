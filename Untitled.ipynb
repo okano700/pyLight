{
 "cells": [
  {
   "cell_type": "code",
   "execution_count": 1,
   "id": "3b088df2-b825-4a52-a4ac-4929b1b8e6af",
   "metadata": {
    "execution": {
     "iopub.execute_input": "2023-03-22T12:47:06.805825Z",
     "iopub.status.busy": "2023-03-22T12:47:06.805380Z",
     "iopub.status.idle": "2023-03-22T12:47:13.483543Z",
     "shell.execute_reply": "2023-03-22T12:47:13.482548Z",
     "shell.execute_reply.started": "2023-03-22T12:47:06.805793Z"
    },
    "tags": []
   },
   "outputs": [],
   "source": [
    "from torch import nn,tensor\n",
    "import torch\n",
    "\n",
    "from torchinfo import summary\n",
    "import lightning.pytorch as pl\n",
    "from pytorch_lightning.callbacks import ModelCheckpoint\n",
    "\n",
    "from torch.utils.data import DataLoader, Dataset\n",
    "from sklearn.preprocessing import MinMaxScaler\n",
    "from sklearn.model_selection import train_test_split\n",
    "import numpy as np\n",
    "from utils.TSds import TSds"
   ]
  },
  {
   "cell_type": "code",
   "execution_count": 2,
   "id": "401a4ae0-9f2f-4bf7-98e2-c881f807aa6b",
   "metadata": {
    "execution": {
     "iopub.execute_input": "2023-03-22T12:47:13.485529Z",
     "iopub.status.busy": "2023-03-22T12:47:13.484874Z",
     "iopub.status.idle": "2023-03-22T12:47:13.544311Z",
     "shell.execute_reply": "2023-03-22T12:47:13.543292Z",
     "shell.execute_reply.started": "2023-03-22T12:47:13.485499Z"
    },
    "tags": []
   },
   "outputs": [],
   "source": [
    "class UCRDataset(Dataset):\n",
    "    def __init__(self, path:str, WL:int, train:bool):\n",
    "        self.data = TSds.read_UCR(path)\n",
    "        self.df = self.data.ts\n",
    "        self.WL = WL\n",
    "        self.scaler = MinMaxScaler().fit(self.df[:self.data.train_split].reshape(-1,1))\n",
    "        self.train = train\n",
    "        if train:\n",
    "            self.sequence, self.labels = self.create_seq(self.df[:self.data.train_split], WL,self.scaler)\n",
    "        else:\n",
    "            self.sequence, self.labels = self.create_seq(self.df[self.data.train_split:], WL,self.scaler)\n",
    "        \n",
    "\n",
    "    @staticmethod \n",
    "    def create_seq(ts, WL, sc):\n",
    "        \n",
    "        ts = sc.fit_transform(ts.reshape(-1, 1))\n",
    "        sequence = []\n",
    "        label = []\n",
    "        for i in range(len(ts) - WL):\n",
    "            sequence.append(ts[i:i+WL])\n",
    "            label.append(ts[i+WL])\n",
    "        return np.array(sequence), np.array(label)\n",
    "    \n",
    "    def __len__(self):\n",
    "        if self.train:\n",
    "            return(self.data.train_split - self.WL)\n",
    "        else:\n",
    "            return len(self.df) - self.WL - self.data.train_split \n",
    "    \n",
    "    def __getitem__(self, idx):\n",
    "        return (tensor(self.sequence[idx], dtype = torch.float).permute(1, 0), tensor(self.labels[idx], dtype = torch.float))"
   ]
  },
  {
   "cell_type": "code",
   "execution_count": 3,
   "id": "04f867c5-e833-4931-b7a1-dd97d3f188b0",
   "metadata": {
    "execution": {
     "iopub.execute_input": "2023-03-22T12:47:13.549614Z",
     "iopub.status.busy": "2023-03-22T12:47:13.549298Z",
     "iopub.status.idle": "2023-03-22T12:47:13.556414Z",
     "shell.execute_reply": "2023-03-22T12:47:13.555068Z",
     "shell.execute_reply.started": "2023-03-22T12:47:13.549585Z"
    },
    "tags": []
   },
   "outputs": [],
   "source": [
    "class UCRDataModule(pl.LightningDataModule):\n",
    "    def __init__(self, path:str, WL:int, batch_size:int = 32):\n",
    "        super().__init__()\n",
    "        self.batch_size = batch_size\n",
    "        self.WL = WL\n",
    "        self.workers = 8\n",
    "        self.path = path\n",
    "        \n",
    "    def setup(self, stage):\n",
    "        self.train = UCRDataset(self.path ,WL = self.WL, train = True)\n",
    "        self.val = UCRDataset(self.path,WL = self.WL, train = False)\n",
    "    \n",
    "    def train_dataloader(self):\n",
    "        return DataLoader(self.train, batch_size = self.batch_size, drop_last = True, pin_memory = True, shuffle = True, num_workers = self.workers)\n",
    "\n",
    "    def predict_dataloader(self):\n",
    "        return DataLoader(self.val, batch_size = 1, num_workers = self.workers, pin_memory = True, shuffle = False)\n",
    "        "
   ]
  },
  {
   "cell_type": "code",
   "execution_count": 4,
   "id": "ed6f2b83-0ea4-43ad-a334-2efbdbad3dda",
   "metadata": {
    "execution": {
     "iopub.execute_input": "2023-03-22T12:47:13.558298Z",
     "iopub.status.busy": "2023-03-22T12:47:13.557944Z",
     "iopub.status.idle": "2023-03-22T12:47:13.570532Z",
     "shell.execute_reply": "2023-03-22T12:47:13.568873Z",
     "shell.execute_reply.started": "2023-03-22T12:47:13.558272Z"
    },
    "tags": []
   },
   "outputs": [],
   "source": [
    "class DeepAnt(nn.Module):\n",
    "    def __init__(self, seq_len, p_w):\n",
    "        super().__init__()\n",
    "        \n",
    "        self.convblock1 = nn.Sequential(\n",
    "            nn.Conv1d(in_channels=1, out_channels=32, kernel_size=3, padding='valid'),\n",
    "            nn.ReLU(inplace=True),\n",
    "            nn.MaxPool1d(kernel_size=2)\n",
    "        )\n",
    "        \n",
    "        self.convblock2 = nn.Sequential(\n",
    "            nn.Conv1d(in_channels=32, out_channels=32, kernel_size=3, padding='valid'),\n",
    "            nn.ReLU(inplace=True),\n",
    "            nn.MaxPool1d(kernel_size=2)\n",
    "        )\n",
    "        \n",
    "        self.flatten = nn.Flatten()\n",
    "        \n",
    "        sh = self.flatten(self.convblock2(self.convblock1(torch.randn(32,1,seq_len))))\n",
    "        #print(sh.shape[1])\n",
    "\t\t\n",
    "        self.denseblock = nn.Sequential(\n",
    "            #nn.Linear(32, 40),\n",
    "            nn.Linear(sh.shape[1], 40),\n",
    "            #nn.Linear(96, 40), # for SEQL_LEN = 20\n",
    "            nn.ReLU(inplace=True),\n",
    "            nn.Dropout(p=0.25),\n",
    "        )\n",
    "        self.out = nn.Linear(40, p_w)\n",
    "        \n",
    "    def forward(self, x):\n",
    "        x = self.convblock1(x)\n",
    "        x = self.convblock2(x)\n",
    "        x = self.flatten(x)\n",
    "        #print(x.shape, flush=True)\n",
    "        x = self.denseblock(x)\n",
    "        x = self.out(x)\n",
    "        return x"
   ]
  },
  {
   "cell_type": "code",
   "execution_count": 5,
   "id": "d96e5350-9ea4-41e4-b8ff-a77b6e9f8bee",
   "metadata": {
    "execution": {
     "iopub.execute_input": "2023-03-22T12:47:13.572367Z",
     "iopub.status.busy": "2023-03-22T12:47:13.571788Z",
     "iopub.status.idle": "2023-03-22T12:47:13.583383Z",
     "shell.execute_reply": "2023-03-22T12:47:13.581782Z",
     "shell.execute_reply.started": "2023-03-22T12:47:13.572328Z"
    },
    "tags": []
   },
   "outputs": [],
   "source": [
    "class AnomalyDetector(pl.LightningModule):\n",
    "    def __init__(self, model):\n",
    "        super().__init__()\n",
    "        self.model = model\n",
    "        self.criterion = nn.L1Loss()\n",
    "    def forward(self, x):\n",
    "        return self.model(x)\n",
    "    \n",
    "    def training_step(self, batch, batch_idx):\n",
    "        x, y = batch\n",
    "        y_pred = self(x)\n",
    "        loss = self.criterion(y_pred, y)\n",
    "        self.log('train_loss', loss, prog_bar=True, logger = True)\n",
    "        return loss\n",
    "    def predict_step(self, batch, batch_idx):\n",
    "        x, y = batch\n",
    "        y_pred = self(x)\n",
    "        return y_pred, torch.linalg.norm(y_pred-y)\n",
    "    \n",
    "    def configure_optimizers(self):\n",
    "        return torch.optim.Adam(self.parameters(), lr = 1e-5)"
   ]
  },
  {
   "cell_type": "code",
   "execution_count": 6,
   "id": "998814b3-8194-45bb-b55e-3d4bdb1f99cd",
   "metadata": {
    "execution": {
     "iopub.execute_input": "2023-03-22T12:47:13.585547Z",
     "iopub.status.busy": "2023-03-22T12:47:13.585136Z",
     "iopub.status.idle": "2023-03-22T12:47:13.591365Z",
     "shell.execute_reply": "2023-03-22T12:47:13.590197Z",
     "shell.execute_reply.started": "2023-03-22T12:47:13.585518Z"
    },
    "tags": []
   },
   "outputs": [],
   "source": [
    "\n",
    "SEQ_LEN = 100\n",
    "#dataset = TrafficDataset(df, SEQ_LEN)\n",
    "#target_idx = dataset.timestamp # Timestamps to detect where the Anomaly Happens\n",
    "#X, y = dataset[0]\n",
    "#X.shape, y.shape, len(dataset) # Checking Sizes are compatible..."
   ]
  },
  {
   "cell_type": "code",
   "execution_count": 7,
   "id": "f42dcc21-30bf-4fe3-bd98-8fbd89c54d8d",
   "metadata": {
    "execution": {
     "iopub.execute_input": "2023-03-22T12:47:13.593018Z",
     "iopub.status.busy": "2023-03-22T12:47:13.592743Z",
     "iopub.status.idle": "2023-03-22T12:47:13.619160Z",
     "shell.execute_reply": "2023-03-22T12:47:13.617985Z",
     "shell.execute_reply.started": "2023-03-22T12:47:13.592993Z"
    },
    "tags": []
   },
   "outputs": [
    {
     "data": {
      "text/plain": [
       "=================================================================\n",
       "Layer (type:depth-idx)                   Param #\n",
       "=================================================================\n",
       "DeepAnt                                  --\n",
       "├─Sequential: 1-1                        --\n",
       "│    └─Conv1d: 2-1                       128\n",
       "│    └─ReLU: 2-2                         --\n",
       "│    └─MaxPool1d: 2-3                    --\n",
       "├─Sequential: 1-2                        --\n",
       "│    └─Conv1d: 2-4                       3,104\n",
       "│    └─ReLU: 2-5                         --\n",
       "│    └─MaxPool1d: 2-6                    --\n",
       "├─Flatten: 1-3                           --\n",
       "├─Sequential: 1-4                        --\n",
       "│    └─Linear: 2-7                       29,480\n",
       "│    └─ReLU: 2-8                         --\n",
       "│    └─Dropout: 2-9                      --\n",
       "├─Linear: 1-5                            41\n",
       "=================================================================\n",
       "Total params: 32,753\n",
       "Trainable params: 32,753\n",
       "Non-trainable params: 0\n",
       "================================================================="
      ]
     },
     "execution_count": 7,
     "metadata": {},
     "output_type": "execute_result"
    }
   ],
   "source": [
    "model = DeepAnt(SEQ_LEN, 1)\n",
    "anomaly_detector = AnomalyDetector(model)\n",
    "dm= UCRDataModule('../metaFeaturesTS/data/UCR_Anomaly_FullData/246_UCR_Anomaly_tilt12755mtable_100211_270800_271070.txt', SEQ_LEN)\n",
    "mc = ModelCheckpoint(\n",
    "    dirpath = 'checkpoints',\n",
    "    save_last = True,\n",
    "    save_top_k = 1,\n",
    "    verbose = True,\n",
    "    monitor = 'train_loss', \n",
    "    mode = 'min'\n",
    "    )\n",
    "\n",
    "mc.CHECKPOINT_NAME_LAST = f'DeepAnt-best-checkpoint'\n",
    "summary(model)"
   ]
  },
  {
   "cell_type": "code",
   "execution_count": null,
   "id": "072daed9-7dd9-4208-a40d-99dd00d4fd41",
   "metadata": {
    "execution": {
     "iopub.execute_input": "2023-03-22T12:47:13.621561Z",
     "iopub.status.busy": "2023-03-22T12:47:13.621111Z"
    },
    "tags": []
   },
   "outputs": [
    {
     "name": "stderr",
     "output_type": "stream",
     "text": [
      "GPU available: False, used: False\n",
      "TPU available: False, using: 0 TPU cores\n",
      "IPU available: False, using: 0 IPUs\n",
      "HPU available: False, using: 0 HPUs\n",
      "\n",
      "  | Name      | Type    | Params\n",
      "--------------------------------------\n",
      "0 | model     | DeepAnt | 32.8 K\n",
      "1 | criterion | L1Loss  | 0     \n",
      "--------------------------------------\n",
      "32.8 K    Trainable params\n",
      "0         Non-trainable params\n",
      "32.8 K    Total params\n",
      "0.131     Total estimated model params size (MB)\n",
      "2023-03-22 09:47:21.011617: I tensorflow/core/platform/cpu_feature_guard.cc:182] This TensorFlow binary is optimized to use available CPU instructions in performance-critical operations.\n",
      "To enable the following instructions: AVX2 FMA, in other operations, rebuild TensorFlow with the appropriate compiler flags.\n",
      "Traceback (most recent call last):\n",
      "  File \"<string>\", line 1, in <module>\n",
      "  File \"/usr/local/Cellar/python@3.11/3.11.2_1/Frameworks/Python.framework/Versions/3.11/lib/python3.11/multiprocessing/spawn.py\", line 120, in spawn_main\n",
      "    exitcode = _main(fd, parent_sentinel)\n",
      "               ^^^^^^^^^^^^^^^^^^^^^^^^^^\n",
      "  File \"/usr/local/Cellar/python@3.11/3.11.2_1/Frameworks/Python.framework/Versions/3.11/lib/python3.11/multiprocessing/spawn.py\", line 130, in _main\n",
      "    self = reduction.pickle.load(from_parent)\n",
      "           ^^^^^^^^^^^^^^^^^^^^^^^^^^^^^^^^^^\n",
      "AttributeError: Can't get attribute 'UCRDataset' on <module '__main__' (built-in)>\n"
     ]
    }
   ],
   "source": [
    "trainer = pl.Trainer(max_epochs=30,\n",
    "                    accelerator=\"cpu\",\n",
    "                    devices=1, \n",
    "                    #callbacks=[mc]\n",
    "                    )\n",
    "trainer.fit(anomaly_detector, dm)"
   ]
  },
  {
   "cell_type": "code",
   "execution_count": null,
   "id": "d444fdb6-82d8-47aa-ad06-f19e524d0bce",
   "metadata": {
    "tags": []
   },
   "outputs": [],
   "source": [
    "dados = TSds.read_UCR('../metaFeaturesTS/data/UCR_Anomaly_FullData/246_UCR_Anomaly_tilt12755mtable_100211_270800_271070.txt')"
   ]
  },
  {
   "cell_type": "code",
   "execution_count": null,
   "id": "0c3a6d77-c453-48c4-9f2d-1a72783fc2c2",
   "metadata": {
    "tags": []
   },
   "outputs": [],
   "source": [
    "dados.plot()"
   ]
  },
  {
   "cell_type": "code",
   "execution_count": null,
   "id": "4b37a247-da13-440a-a11a-181fbbf017e1",
   "metadata": {
    "tags": []
   },
   "outputs": [],
   "source": [
    "dados.train_split"
   ]
  },
  {
   "cell_type": "code",
   "execution_count": null,
   "id": "ea426039-3359-4137-9d7f-fa52ffa5a05c",
   "metadata": {
    "tags": []
   },
   "outputs": [],
   "source": [
    "dados.ts[:dados.train_split].reshape(-1,1)"
   ]
  },
  {
   "cell_type": "code",
   "execution_count": null,
   "id": "08dc35a8-516b-4d92-a1cf-8e548f3cef87",
   "metadata": {
    "tags": []
   },
   "outputs": [],
   "source": [
    "dados.train_split"
   ]
  },
  {
   "cell_type": "code",
   "execution_count": null,
   "id": "cb6a9289-4ae4-4cb8-b2f2-0aee3ef657f7",
   "metadata": {
    "tags": []
   },
   "outputs": [],
   "source": [
    "sc = MinMaxScaler().fit(dados.ts[:dados.train_split].reshape(-1,1))"
   ]
  },
  {
   "cell_type": "code",
   "execution_count": null,
   "id": "4c6c0103-a380-411b-973f-1c70865179c2",
   "metadata": {
    "tags": []
   },
   "outputs": [],
   "source": [
    "a = UCRDataModule('../metaFeaturesTS/data/UCR_Anomaly_FullData/246_UCR_Anomaly_tilt12755mtable_100211_270800_271070.txt',10)"
   ]
  },
  {
   "cell_type": "code",
   "execution_count": null,
   "id": "70d71a17-5a62-450f-b773-7702bd6e1887",
   "metadata": {
    "tags": []
   },
   "outputs": [],
   "source": [
    "a.setup()"
   ]
  },
  {
   "cell_type": "code",
   "execution_count": null,
   "id": "15bf475d-cbd3-44d5-82d1-01ff9df2cdc6",
   "metadata": {
    "tags": []
   },
   "outputs": [],
   "source": []
  },
  {
   "cell_type": "code",
   "execution_count": null,
   "id": "22458fbe-5e73-4f2e-9980-480a644a0169",
   "metadata": {
    "tags": []
   },
   "outputs": [],
   "source": [
    "X.shape"
   ]
  },
  {
   "cell_type": "code",
   "execution_count": null,
   "id": "246ae4f3-2de8-4708-9d06-b3f17b0b6dad",
   "metadata": {
    "tags": []
   },
   "outputs": [],
   "source": [
    "y"
   ]
  },
  {
   "cell_type": "code",
   "execution_count": null,
   "id": "da17357e-305c-41e1-a2fd-76525a2b1964",
   "metadata": {
    "tags": []
   },
   "outputs": [],
   "source": [
    "train = UCRDataset('../metaFeaturesTS/data/UCR_Anomaly_FullData/246_UCR_Anomaly_tilt12755mtable_100211_270800_271070.txt',10, True)"
   ]
  },
  {
   "cell_type": "code",
   "execution_count": null,
   "id": "5cea1c82-3df2-43e1-a1c3-b19577bd2ed1",
   "metadata": {
    "tags": []
   },
   "outputs": [],
   "source": [
    "train[-1]"
   ]
  },
  {
   "cell_type": "code",
   "execution_count": null,
   "id": "477dc75c-5518-4d42-8948-cc3bd626f737",
   "metadata": {
    "tags": []
   },
   "outputs": [],
   "source": [
    "train[100200]"
   ]
  },
  {
   "cell_type": "code",
   "execution_count": null,
   "id": "b5ab95f6-7d0f-433e-9d10-b26662603db9",
   "metadata": {
    "tags": []
   },
   "outputs": [],
   "source": [
    "len(train)"
   ]
  },
  {
   "cell_type": "code",
   "execution_count": null,
   "id": "1c3290c9-4008-4a9a-8ccf-5702041f8b89",
   "metadata": {
    "tags": []
   },
   "outputs": [],
   "source": [
    "val = UCRDataset('../metaFeaturesTS/data/UCR_Anomaly_FullData/246_UCR_Anomaly_tilt12755mtable_100211_270800_271070.txt',10, False)"
   ]
  },
  {
   "cell_type": "code",
   "execution_count": null,
   "id": "0a0e5984-7842-4311-a4c2-5b9d58ee6a7c",
   "metadata": {
    "tags": []
   },
   "outputs": [],
   "source": [
    "len(val)"
   ]
  },
  {
   "cell_type": "code",
   "execution_count": null,
   "id": "994a6d89-4670-4b3a-aaf3-be26de0b4d8f",
   "metadata": {
    "tags": []
   },
   "outputs": [],
   "source": [
    "val[-1]"
   ]
  },
  {
   "cell_type": "code",
   "execution_count": null,
   "id": "7ba9d66c-4bf7-4a6f-b0bc-ab5cb4bb8a5c",
   "metadata": {
    "tags": []
   },
   "outputs": [],
   "source": [
    "teste[10]"
   ]
  },
  {
   "cell_type": "code",
   "execution_count": null,
   "id": "9f33e14b-78a0-4ec5-8c87-37392ccedec5",
   "metadata": {},
   "outputs": [],
   "source": [
    "train_test_split(train,0.9)"
   ]
  },
  {
   "cell_type": "code",
   "execution_count": null,
   "id": "b7c2ed1b-4406-48a7-926d-e27122843a17",
   "metadata": {
    "tags": []
   },
   "outputs": [],
   "source": [
    "!pip install torchinfo"
   ]
  },
  {
   "cell_type": "code",
   "execution_count": null,
   "id": "39164ab8-0bee-4f49-9942-27bb3340924c",
   "metadata": {},
   "outputs": [],
   "source": []
  }
 ],
 "metadata": {
  "kernelspec": {
   "display_name": "Python 3 (ipykernel)",
   "language": "python",
   "name": "python3"
  },
  "language_info": {
   "codemirror_mode": {
    "name": "ipython",
    "version": 3
   },
   "file_extension": ".py",
   "mimetype": "text/x-python",
   "name": "python",
   "nbconvert_exporter": "python",
   "pygments_lexer": "ipython3",
   "version": "3.11.2"
  }
 },
 "nbformat": 4,
 "nbformat_minor": 5
}
